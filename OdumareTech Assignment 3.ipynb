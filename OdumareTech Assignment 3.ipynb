{
 "cells": [
  {
   "cell_type": "markdown",
   "id": "6026e80f",
   "metadata": {},
   "source": [
    "# Task 1: Creating and Manipulating Arrays\n",
    "##### Create a 1-dimensional NumPy array with 10 elements of your choice.\n",
    "##### Create a 2-dimensional NumPy array with shape (3, 4) containing random integers between 1 and 20.\n",
    "##### Reshape the 2D array into a 4x3 array and then into a 1D array.\n",
    "##### Slice the first 5 elements from the 1D array you created and print them.\n",
    "##### Create an array of zeros with shape (2, 3) and another array of ones with shape (3, 2)."
   ]
  },
  {
   "cell_type": "code",
   "execution_count": 29,
   "id": "232bf41a",
   "metadata": {},
   "outputs": [
    {
     "data": {
      "text/plain": [
       "array([ 3,  7,  1,  9,  4,  6,  2,  8,  5, 10])"
      ]
     },
     "execution_count": 29,
     "metadata": {},
     "output_type": "execute_result"
    }
   ],
   "source": [
    "import numpy as np\n",
    "#Create a 1-dimensional NumPy array with 10 elements of your choice.\n",
    "\n",
    "array1 = np.array([3, 7, 1, 9, 4, 6, 2, 8, 5, 10])\n",
    "array"
   ]
  },
  {
   "cell_type": "code",
   "execution_count": 3,
   "id": "49e275cf",
   "metadata": {},
   "outputs": [
    {
     "data": {
      "text/plain": [
       "array([[11, 10,  9, 10],\n",
       "       [ 8,  4, 18,  5],\n",
       "       [15, 11,  4, 17]])"
      ]
     },
     "execution_count": 3,
     "metadata": {},
     "output_type": "execute_result"
    }
   ],
   "source": [
    "#Create a 2-dimensional NumPy array with shape (3, 4) containing random integers between 1 and 20.\n",
    "\n",
    "array2 = np.random.randint(1, 21, size=(3, 4))\n",
    "array2"
   ]
  },
  {
   "cell_type": "code",
   "execution_count": 10,
   "id": "1326457e",
   "metadata": {},
   "outputs": [
    {
     "name": "stdout",
     "output_type": "stream",
     "text": [
      "[[11 10  9]\n",
      " [10  8  4]\n",
      " [18  5 15]\n",
      " [11  4 17]]\n",
      "[11 10  9 10  8  4 18  5 15 11  4 17]\n"
     ]
    }
   ],
   "source": [
    "#Reshape the 2D array into a 4x3 array and then into a 1D array.\n",
    "\n",
    "array3 = array2.reshape(4,3)\n",
    "print(array3)\n",
    "\n",
    "array4 = array3.ravel()\n",
    "print(array4)"
   ]
  },
  {
   "cell_type": "code",
   "execution_count": 12,
   "id": "82451460",
   "metadata": {},
   "outputs": [
    {
     "name": "stdout",
     "output_type": "stream",
     "text": [
      "[11 10  9 10  8]\n"
     ]
    }
   ],
   "source": [
    "#Slice the first 5 elements from the 1D array you created and print them.\n",
    "print(array4[:5])"
   ]
  },
  {
   "cell_type": "code",
   "execution_count": 16,
   "id": "3793bab5",
   "metadata": {},
   "outputs": [
    {
     "name": "stdout",
     "output_type": "stream",
     "text": [
      "Below contains array of zeros\n",
      "[[0. 0. 0.]\n",
      " [0. 0. 0.]]\n",
      "\n",
      "\n",
      "Below contains array of ones\n",
      "[[1. 1.]\n",
      " [1. 1.]\n",
      " [1. 1.]]\n"
     ]
    }
   ],
   "source": [
    "#Create an array of zeros with shape (2, 3) and another array of ones with shape (3, 2).\n",
    "\n",
    "print(\"Below contains array of zeros\")\n",
    "array_of_zeros = np.zeros((2,3))\n",
    "print(array_of_zeros)\n",
    "\n",
    "print(\"\\n\")\n",
    "print(\"Below contains array of ones\")\n",
    "array_of_ones = np.ones((3,2))\n",
    "print(array_of_ones)"
   ]
  },
  {
   "cell_type": "markdown",
   "id": "3b0b3ce9",
   "metadata": {},
   "source": [
    "## Task 2: Array Operations\n",
    "##### Perform element-wise addition, subtraction, multiplication, and division on two arrays of your choice.\n",
    "##### Compute the dot product of two 2D arrays (of compatible shapes) and print the result.\n",
    "##### Create a 3x3 identity matrix using NumPy functions.\n",
    "##### Calculate the sum, mean, standard deviation, and variance of a 1D array."
   ]
  },
  {
   "cell_type": "code",
   "execution_count": 19,
   "id": "cb9217c6",
   "metadata": {},
   "outputs": [
    {
     "data": {
      "text/plain": [
       "(array([ 7, 14, 21, 28]),\n",
       " array([ 3,  6,  9, 12]),\n",
       " array([ 10,  40,  90, 160]),\n",
       " array([2.5, 2.5, 2.5, 2.5]))"
      ]
     },
     "execution_count": 19,
     "metadata": {},
     "output_type": "execute_result"
    }
   ],
   "source": [
    "#Perform element-wise addition, subtraction, multiplication, and division on two arrays of your choice.\n",
    "\n",
    "# Creating two arrays for element-wise operations\n",
    "array_one = np.array([5, 10, 15, 20])\n",
    "array_two = np.array([2, 4, 6, 8])\n",
    "\n",
    "# Performing element-wise operations\n",
    "addition = array_one + array_two\n",
    "subtraction = array_one - array_two\n",
    "multiplication = array_one * array_two\n",
    "division = array_one / array_two\n",
    "\n",
    "addition, subtraction, multiplication, division\n"
   ]
  },
  {
   "cell_type": "code",
   "execution_count": 25,
   "id": "64a6334d",
   "metadata": {},
   "outputs": [
    {
     "name": "stdout",
     "output_type": "stream",
     "text": [
      "[[1 2 3]\n",
      " [4 5 6]]\n",
      "[[ 7  8]\n",
      " [ 9 10]\n",
      " [11 12]]\n"
     ]
    },
    {
     "data": {
      "text/plain": [
       "array([[ 58,  64],\n",
       "       [139, 154]])"
      ]
     },
     "execution_count": 25,
     "metadata": {},
     "output_type": "execute_result"
    }
   ],
   "source": [
    "#Compute the dot product of two 2D arrays (of compatible shapes) and print the result.\n",
    "\n",
    "# Creating two 2D arrays for dot product calculation\n",
    "array_dot_one = np.array([[1, 2, 3], [4, 5, 6]])\n",
    "print(array_dot_one)\n",
    "array_dot_two = np.array([[7, 8], [9, 10], [11, 12]])\n",
    "print(array_dot_two)\n",
    "\n",
    "# Computing the dot product\n",
    "dot_product = np.dot(array_dot_one, array_dot_two)\n",
    "dot_product\n"
   ]
  },
  {
   "cell_type": "code",
   "execution_count": 27,
   "id": "c3930ccd",
   "metadata": {},
   "outputs": [
    {
     "name": "stdout",
     "output_type": "stream",
     "text": [
      "[[1. 0. 0.]\n",
      " [0. 1. 0.]\n",
      " [0. 0. 1.]]\n"
     ]
    }
   ],
   "source": [
    "#Create a 3x3 identity matrix using NumPy functions\n",
    "\n",
    "array_identity = np.identity(3)\n",
    "print(array_identity)"
   ]
  },
  {
   "cell_type": "code",
   "execution_count": 34,
   "id": "d0b56489",
   "metadata": {},
   "outputs": [
    {
     "name": "stdout",
     "output_type": "stream",
     "text": [
      "[ 3  7  1  9  4  6  2  8  5 10]\n",
      "Sum : 55\n",
      "Mean : 5.5\n",
      "Std : 2.8722813232690143\n",
      "Variance : 8.25\n"
     ]
    }
   ],
   "source": [
    "#Calculate the sum, mean, standard deviation, and variance of a 1D array\n",
    "#Recall the first array created\n",
    "print(array1)\n",
    "\n",
    "array_sum = np.sum(array1)\n",
    "array_mean = np.mean(array1)\n",
    "array_std = np.std(array1)\n",
    "array_variance = np.var(array1)\n",
    "print(f\"Sum : {array_sum}\")\n",
    "print(f\"Mean : {array_mean}\")\n",
    "print(f\"Std : {array_std}\")\n",
    "print(f\"Variance : {array_variance}\")"
   ]
  },
  {
   "cell_type": "markdown",
   "id": "dea70be5",
   "metadata": {},
   "source": [
    "### Task 3: Boolean Indexing and Filtering\n",
    "##### Create a 1D array with 15 random integers between 0 and 50.\n",
    "##### Use Boolean indexing to filter out all elements greater than 25 and print the result.\n",
    "##### Replace all values in the array that are less than 10 with 10."
   ]
  },
  {
   "cell_type": "code",
   "execution_count": 42,
   "id": "75769adb",
   "metadata": {},
   "outputs": [
    {
     "name": "stdout",
     "output_type": "stream",
     "text": [
      "15\n"
     ]
    },
    {
     "data": {
      "text/plain": [
       "array([47, 28, 22, 31, 30, 36, 33, 14, 25, 27, 26, 10, 42,  6, 46])"
      ]
     },
     "execution_count": 42,
     "metadata": {},
     "output_type": "execute_result"
    }
   ],
   "source": [
    "#Create a 1D array with 15 random integers between 0 and 50.\n",
    "\n",
    "array_random = np.random.randint(0, 50, size=15)\n",
    "print(len(array_random))\n",
    "array_random"
   ]
  },
  {
   "cell_type": "code",
   "execution_count": 43,
   "id": "066cb5f0",
   "metadata": {},
   "outputs": [
    {
     "name": "stdout",
     "output_type": "stream",
     "text": [
      "[47 28 31 30 36 33 27 26 42 46]\n"
     ]
    }
   ],
   "source": [
    "#Use Boolean indexing to filter out all elements greater than 25 and print the result.\n",
    "print(array_random[array_random > 25])"
   ]
  },
  {
   "cell_type": "code",
   "execution_count": 44,
   "id": "60154ef1",
   "metadata": {},
   "outputs": [
    {
     "name": "stdout",
     "output_type": "stream",
     "text": [
      "[47 28 22 31 30 36 33 14 25 27 26 10 42 10 46]\n"
     ]
    }
   ],
   "source": [
    "#Replace all values in the array that are less than 10 with 10.\n",
    "array_random[array_random < 10] = 10\n",
    "print(array_random)"
   ]
  },
  {
   "cell_type": "markdown",
   "id": "9113f1cf",
   "metadata": {},
   "source": [
    "### Task 4: Advanced Operations\n",
    "##### Generate a 5x5 matrix with random integers and find the minimum and maximum values in the matrix.\n",
    "##### Calculate the row-wise and column-wise sums of the matrix.\n",
    "##### Create two 2D arrays and stack them vertically and horizontally using NumPy functions"
   ]
  },
  {
   "cell_type": "code",
   "execution_count": 52,
   "id": "f06293a5",
   "metadata": {},
   "outputs": [
    {
     "name": "stdout",
     "output_type": "stream",
     "text": [
      "[[ 7 31 13 13 16]\n",
      " [ 8 42  1 34 13]\n",
      " [48 26 20 20 48]\n",
      " [31 21 10 13  9]\n",
      " [28  8  4 10 15]]\n",
      "Max value = 48\n",
      "Min value = 1\n"
     ]
    }
   ],
   "source": [
    "#Generate a 5x5 matrix with random integers and find the minimum and maximum values in the matrix.\n",
    "\n",
    "array_random_matrix = np.random.randint(0, 50, size=(5,5))\n",
    "# print(len(array_random_matrix))\n",
    "print(array_random_matrix)\n",
    "print(f\"Max value = {np.max(array_random_matrix)}\")\n",
    "print(f\"Min value = {np.min(array_random_matrix)}\")"
   ]
  },
  {
   "cell_type": "code",
   "execution_count": 53,
   "id": "b4c2af03",
   "metadata": {},
   "outputs": [
    {
     "name": "stdout",
     "output_type": "stream",
     "text": [
      "Row-wise sums: [ 80  98 162  84  65]\n",
      "Column-wise sums: [122 128  48  90 101]\n"
     ]
    }
   ],
   "source": [
    "#Calculate the row-wise and column-wise sums of the matrix.\n",
    "# Calculate the row-wise sums\n",
    "row_sums = np.sum(array_random_matrix, axis=1)\n",
    "\n",
    "# Calculate the column-wise sums\n",
    "column_sums = np.sum(array_random_matrix, axis=0)\n",
    "\n",
    "print(\"Row-wise sums:\", row_sums)\n",
    "print(\"Column-wise sums:\", column_sums)"
   ]
  },
  {
   "cell_type": "code",
   "execution_count": 56,
   "id": "c6cc2c60",
   "metadata": {},
   "outputs": [
    {
     "name": "stdout",
     "output_type": "stream",
     "text": [
      "Vertical Stack:\n",
      " [[1 2]\n",
      " [3 4]\n",
      " [5 6]\n",
      " [7 8]]\n",
      "Horizontal Stack:\n",
      " [[1 2 5 6]\n",
      " [3 4 7 8]]\n"
     ]
    }
   ],
   "source": [
    "#Create two 2D arrays and stack them vertically and horizontally using NumPy functions.\n",
    "\n",
    "# Create two 2D arrays\n",
    "array_stack_1 = np.array([[1, 2], [3, 4]])\n",
    "arraystack_2 = np.array([[5, 6], [7, 8]])\n",
    "\n",
    "# Stack the arrays vertically\n",
    "vertical_stack = np.vstack((array_stack_1, arraystack_2))\n",
    "\n",
    "# Stack the arrays horizontally\n",
    "horizontal_stack = np.hstack((array_stack_1, arraystack_2))\n",
    "\n",
    "print(f\"Vertical Stack:\\n {vertical_stack}\")\n",
    "print(f\"Horizontal Stack:\\n {horizontal_stack}\")\n"
   ]
  },
  {
   "cell_type": "code",
   "execution_count": null,
   "id": "78a12c6f",
   "metadata": {},
   "outputs": [],
   "source": []
  },
  {
   "cell_type": "code",
   "execution_count": null,
   "id": "51baf835",
   "metadata": {},
   "outputs": [],
   "source": []
  }
 ],
 "metadata": {
  "kernelspec": {
   "display_name": "Python 3 (ipykernel)",
   "language": "python",
   "name": "python3"
  },
  "language_info": {
   "codemirror_mode": {
    "name": "ipython",
    "version": 3
   },
   "file_extension": ".py",
   "mimetype": "text/x-python",
   "name": "python",
   "nbconvert_exporter": "python",
   "pygments_lexer": "ipython3",
   "version": "3.11.5"
  }
 },
 "nbformat": 4,
 "nbformat_minor": 5
}
